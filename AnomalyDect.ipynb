{
 "cells": [
  {
   "cell_type": "markdown",
   "metadata": {},
   "source": [
    "## Ques 1: create 'merged exp normal.csv' ##"
   ]
  },
  {
   "cell_type": "code",
   "execution_count": null,
   "metadata": {},
   "outputs": [],
   "source": [
    "import os\n",
    "import pandas as pd\n",
    "import numpy as np\n",
    "import csv\n",
    "from os.path import isfile, join\n",
    "from os import listdir\n",
    "DirNor = input(\"Enter the directory path for the Normal Experiments folder of csv files to be merged\")\n",
    "#DirNor=r'C:\\Users\\solan\\Downloads\\Subjects\\Winter\\Machine Learning\\exam\\Datasets\\Datasets\\Normal_Experiments'\n",
    "filenames = [f for f in listdir(DirNor) if isfile(join(DirNor, f))]\n",
    "dflist=[]\n",
    "colnames= ['X1','X2','X3','X4','X5','X6','X7','X8','Sds_Armed','Anomaly_Tag']\n",
    "for file in filenames:\n",
    "    data = pd.read_csv(DirNor+'/'+ file)\n",
    "    data = data[data.Sds_Armed != 0]\n",
    "    dflist.append(data)\n",
    "DF=pd.concat(dflist,axis=0)\n",
    "DF.columns=colnames\n",
    "DF.to_csv(DirNor+'/'+ 'merged exp normal.csv', index=False)\n",
    "row_count = (sum(1 for row in csv.reader( open(DirNor+'/'+ 'merged exp normal.csv') ) )-1)\n",
    "print(f'The merged exp normal.csv has been generated in same directory and the no. of examples is {row_count}')"
   ]
  },
  {
   "cell_type": "markdown",
   "metadata": {},
   "source": [
    "## Ques 2:  create \"Experiments with Anomalies\""
   ]
  },
  {
   "cell_type": "code",
   "execution_count": 8,
   "metadata": {},
   "outputs": [
    {
     "name": "stdout",
     "output_type": "stream",
     "text": [
      "Enter the directory path for the Experiments with Anomalies folder of csv files to be mergedC:\\Users\\solan\\Downloads\\Subjects\\Winter\\Machine Learning\\exam\\Datasets\\Datasets\\Experiments_with_Anomalies\n",
      "The merged exp contains anomalies.csv has been generated in same directory and the no. of examples is 45626\n"
     ]
    }
   ],
   "source": [
    "DirAnNor= input('Enter the directory path for the Experiments with Anomalies folder of csv files to be merged')\n",
    "#DirAnNor =r'C:\\Users\\solan\\Downloads\\Subjects\\Winter\\Machine Learning\\exam\\Datasets\\Datasets\\Experiments_with_Anomalies'\n",
    "filenames1 = [f for f in listdir(DirAnNor) if isfile(join(DirAnNor, f))]\n",
    "dflist1=[]\n",
    "colnames1= ['X1','X2','X3','X4','X5','X6','X7','X8','Sds_Armed','Anomaly_Tag']\n",
    "for file in filenames1:\n",
    "    data = pd.read_csv(DirAnNor+'/'+ file)\n",
    "    data = data[data.Sds_Armed != 0]\n",
    "    dflist1.append(data)\n",
    "DF1=pd.concat(dflist1,axis=0)\n",
    "DF1.columns=colnames1\n",
    "DF1.to_csv(DirAnNor+'/'+ 'merged exp contains anomalies.csv', index=False)\n",
    "row_count1 = (sum(1 for row in csv.reader( open(DirAnNor+'/'+ 'merged exp contains anomalies.csv') ) )-1)\n",
    "print(f'The merged exp contains anomalies.csv has been generated in same directory and the no. of examples is {row_count1}')"
   ]
  },
  {
   "cell_type": "markdown",
   "metadata": {},
   "source": [
    "## Ques 3: Significance Test using ExtraTreesClassifier"
   ]
  },
  {
   "cell_type": "code",
   "execution_count": 13,
   "metadata": {},
   "outputs": [
    {
     "name": "stdout",
     "output_type": "stream",
     "text": [
      "All features: ['X1', 'X2', 'X3', 'X4', 'X5', 'X6', 'X7', 'X8']\n",
      "features Scores Resp.: [0.23547873 0.17010471 0.13365553 0.14845778 0.08277244 0.07622602\n",
      " 0.07286903 0.08043577]\n",
      "Significant Features in descending order : ['X1', 'X2', 'X4', 'X3', 'X5', 'X8', 'X6', 'X7']\n"
     ]
    }
   ],
   "source": [
    "from sklearn.ensemble import ExtraTreesClassifier\n",
    "import warnings\n",
    "warnings.filterwarnings(\"ignore\")\n",
    "a=r'C:\\Users\\solan\\Downloads\\Subjects\\Winter\\Machine Learning\\exam\\Datasets\\Datasets\\Experiments_with_Anomalies\\merged exp contains anomalies.csv'\n",
    "#a=input('Enter the directory path for merged exp contains anomalies.csv file')\n",
    "Adata = pd.read_csv(a)\n",
    "array = Adata.values\n",
    "X = array[:,0:8]\n",
    "Y = array[:,9]\n",
    "model = ExtraTreesClassifier()\n",
    "model.fit(X, Y)\n",
    "feature_names= list(Adata.columns[0:8])\n",
    "print(f'All features: {feature_names}')\n",
    "print(f'features Scores Resp.: {model.feature_importances_}')\n",
    "print (f'Significant Features in descending order : {[feature_names[i] for i in np.argsort(model.feature_importances_[0:8])[::-1]]}')"
   ]
  },
  {
   "cell_type": "markdown",
   "metadata": {},
   "source": [
    "## Ques 4: Model the normal process \\merged exp normal.csv\" using Gaussian distribution.\n",
    "## A) Consider all features (X1, X2, ..., X8)"
   ]
  },
  {
   "cell_type": "code",
   "execution_count": 14,
   "metadata": {},
   "outputs": [
    {
     "name": "stdout",
     "output_type": "stream",
     "text": [
      "feature X1 :  Mean is 0.4974996959883466 , standard deviation is 0.48695492098077237\n",
      " PDF is  [0.79477436 0.79410225 0.79379825 ... 0.68821991 0.68998168 0.68928127]\n",
      "feature X2 :  Mean is 0.8838023869292996 , standard deviation is 0.9896170948383087\n",
      " PDF is  [0.43271107 0.43188563 0.43136828 ... 0.33431448 0.33819764 0.3388369 ]\n",
      "feature X3 :  Mean is 7.763044933576621 , standard deviation is 13.9004711898007\n",
      " PDF is  [0.03068206 0.03065878 0.03065517 ... 0.0342229  0.03369612 0.03350061]\n",
      "feature X4 :  Mean is 2.617440304615524 , standard deviation is 3.466286776572451\n",
      " PDF is  [0.11247743 0.11248078 0.11246403 ... 0.14920418 0.14869544 0.14847513]\n",
      "feature X5 :  Mean is 0.47749564887499996 , standard deviation is 0.7798352786337822\n",
      " PDF is  [0.42421958 0.41761348 0.41890151 ... 0.51612047 0.56142962 0.61199392]\n",
      "feature X6 :  Mean is 0.8497762248286971 , standard deviation is 1.5709417583932361\n",
      " PDF is  [1.95577199e-01 1.94627922e-01 1.95647256e-01 ... 1.69409379e-14\n",
      " 5.79634161e-14 9.11238713e-12]\n",
      "feature X7 :  Mean is 7.3950088450732165 , standard deviation is 18.18789522138548\n",
      " PDF is  [0.01097078 0.01112429 0.01122108 ... 0.04688617 0.04730765 0.0508334 ]\n",
      "feature X8 :  Mean is 2.546400935703239 , standard deviation is 4.701597976180311\n",
      " PDF is  [0.06455041 0.06501361 0.06495944 ... 0.07321623 0.07101145 0.06876573]\n"
     ]
    }
   ],
   "source": [
    "from scipy.stats import multivariate_normal\n",
    "from scipy.stats import norm\n",
    "import scipy.stats as stats\n",
    "import matplotlib.pyplot as plt\n",
    "import math\n",
    "n=r'C:\\Users\\solan\\Downloads\\Subjects\\Winter\\Machine Learning\\exam\\Datasets\\Datasets\\Normal_Experiments\\merged exp normal.csv'\n",
    "#n=input('Enter the directory path for merged exp normal.csv file')\n",
    "data = pd.read_csv(n)\n",
    "X1=data.iloc[:,0]\n",
    "std1 = np.std(data.iloc[:,0])\n",
    "mean1 = np.mean(data.iloc[:,0])\n",
    "pdf1 = stats.norm.pdf(X1,std1,mean1)\n",
    "print(f'feature X1 :  Mean is {mean1} , standard deviation is {std1}')\n",
    "print(f' PDF is  {pdf1}')\n",
    "\n",
    "X2=data.iloc[:,1]\n",
    "std2 = np.std(data.iloc[:,1])\n",
    "mean2 = np.mean(data.iloc[:,1])\n",
    "pdf2 = stats.norm.pdf(X2,std2,mean2)\n",
    "print(f'feature X2 :  Mean is {mean2} , standard deviation is {std2}')\n",
    "print(f' PDF is  {pdf2}')\n",
    "\n",
    "X3=data.iloc[:,2]\n",
    "std3 = np.std(data.iloc[:,2])\n",
    "mean3 = np.mean(data.iloc[:,2])\n",
    "pdf3 = stats.norm.pdf(X3,std3,mean3)\n",
    "print(f'feature X3 :  Mean is {mean3} , standard deviation is {std3}')\n",
    "print(f' PDF is  {pdf3}')\n",
    "\n",
    "X4=data.iloc[:,3]\n",
    "std4 = np.std(data.iloc[:,3])\n",
    "mean4 = np.mean(data.iloc[:,3])\n",
    "pdf4 = stats.norm.pdf(X4,std4,mean4)\n",
    "print(f'feature X4 :  Mean is {mean4} , standard deviation is {std4}')\n",
    "print(f' PDF is  {pdf4}')\n",
    "\n",
    "X5=data.iloc[:,4]\n",
    "std5 = np.std(data.iloc[:,4])\n",
    "mean5 = np.mean(data.iloc[:,4])\n",
    "pdf5= stats.norm.pdf(X5,std5,mean5)\n",
    "print(f'feature X5 :  Mean is {mean5} , standard deviation is {std5}')\n",
    "print(f' PDF is  {pdf5}')\n",
    "\n",
    "X6=data.iloc[:,5]\n",
    "std6 = np.std(data.iloc[:,5])\n",
    "mean6 = np.mean(data.iloc[:,5])\n",
    "pdf6 = stats.norm.pdf(X6,std6,mean6)\n",
    "print(f'feature X6 :  Mean is {mean6} , standard deviation is {std6}')\n",
    "print(f' PDF is  {pdf6}')\n",
    "\n",
    "X7=data.iloc[:,6]\n",
    "std7 = np.std(data.iloc[:,6])\n",
    "mean7 = np.mean(data.iloc[:,6])\n",
    "pdf7 = stats.norm.pdf(X7,std7,mean7)\n",
    "print(f'feature X7 :  Mean is {mean7} , standard deviation is {std7}')\n",
    "print(f' PDF is  {pdf7}')\n",
    "\n",
    "X8=data.iloc[:,7]\n",
    "std8 = np.std(data.iloc[:,7])\n",
    "mean8 = np.mean(data.iloc[:,7])\n",
    "pdf8 = stats.norm.pdf(X8,std8,mean8)\n",
    "print(f'feature X8 :  Mean is {mean8} , standard deviation is {std8}')\n",
    "print(f' PDF is  {pdf8}')"
   ]
  },
  {
   "cell_type": "code",
   "execution_count": 33,
   "metadata": {},
   "outputs": [
    {
     "data": {
      "text/plain": [
       "[Text(0, 0.5, 'datapoints'), Text(0.5, 0, 'PDF8')]"
      ]
     },
     "execution_count": 33,
     "metadata": {},
     "output_type": "execute_result"
    },
    {
     "data": {
      "image/png": "[encoded data removed]",
      "text/plain": [
       "<Figure size 432x288 with 1 Axes>"
      ]
     },
     "metadata": {
      "needs_background": "light"
     },
     "output_type": "display_data"
    }
   ],
   "source": [
    "import seaborn as sns\n",
    "import matplotlib.pyplot as plt\n",
    "ax=sns.distplot(pdf8);\n",
    "ax.set(xlabel='PDF8', ylabel='datapoints')"
   ]
  },
  {
   "cell_type": "markdown",
   "metadata": {},
   "source": [
    "## Ques 4, Part B) Mark the most important two features"
   ]
  },
  {
   "cell_type": "code",
   "execution_count": 34,
   "metadata": {},
   "outputs": [
    {
     "name": "stdout",
     "output_type": "stream",
     "text": [
      "For two Important features X1 and X2, mean is 0.4974996959883466 and 0.8838023869292996\n",
      "for two important features X1 and X2, standard deviation is 0.48695492098077237 and 0.9896170948383087\n",
      " for two important features X1 and X2, PDF is  [0.79477436 0.79410225 0.79379825 ... 0.68821991 0.68998168 0.68928127] and [0.43271107 0.43188563 0.43136828 ... 0.33431448 0.33819764 0.3388369 ]\n"
     ]
    }
   ],
   "source": [
    "print (f'For two Important features X1 and X2, mean is {mean1} and {mean2}')\n",
    "print(f'for two important features X1 and X2, standard deviation is {std1} and {std2}')\n",
    "print(f' for two important features X1 and X2, PDF is  {pdf1} and {pdf2}')"
   ]
  },
  {
   "cell_type": "markdown",
   "metadata": {},
   "source": [
    "## Ques 4, Part C) PCA "
   ]
  },
  {
   "cell_type": "code",
   "execution_count": 60,
   "metadata": {
    "collapsed": true
   },
   "outputs": [
    {
     "name": "stdout",
     "output_type": "stream",
     "text": [
      "        pcacomp_1  pcacomp_2\n",
      "0       -3.266245   0.433386\n",
      "1       -3.217673   0.467019\n",
      "2       -3.187650   0.484955\n",
      "3       -3.283749   0.442591\n",
      "4       -3.402870   0.398576\n",
      "5       -3.610113   0.496068\n",
      "6       -3.778678   0.775731\n",
      "7       -3.887797   0.790935\n",
      "8       -3.926794   0.778865\n",
      "9       -3.850411   0.828779\n",
      "10      -3.786833   0.873551\n",
      "11      -3.742733   0.905466\n",
      "12      -3.736759   0.919992\n",
      "13      -3.752507   0.923270\n",
      "14      -3.837697   0.890808\n",
      "15      -3.909215   0.862733\n",
      "16      -3.861959   0.896903\n",
      "17      -3.824237   0.924537\n",
      "18      -3.861387   0.915132\n",
      "19      -3.869418   0.923859\n",
      "20      -3.876027   0.937935\n",
      "21      -3.915234   0.935306\n",
      "22      -3.983012   0.914373\n",
      "23      -4.075406   0.882349\n",
      "24      -4.093406   0.895013\n",
      "25      -4.010414   0.956849\n",
      "26      -3.968570   0.995171\n",
      "27      -3.961576   1.012610\n",
      "28      -3.993361   1.012150\n",
      "29      -4.018145   1.012295\n",
      "...           ...        ...\n",
      "152326  48.629433 -90.091956\n",
      "152327  45.799515 -85.063747\n",
      "152328  43.194285 -80.257659\n",
      "152329  40.090362 -74.724470\n",
      "152330  37.213094 -69.835798\n",
      "152331  34.852613 -65.995954\n",
      "152332  31.965527 -61.369102\n",
      "152333  29.209945 -56.965891\n",
      "152334  26.801917 -53.350411\n",
      "152335  24.072185 -49.103429\n",
      "152336  21.040913 -44.234223\n",
      "152337  18.176888 -39.421332\n",
      "152338  15.664707 -35.165146\n",
      "152339  13.135193 -31.058354\n",
      "152340  10.624778 -26.883634\n",
      "152341   8.448110 -23.399172\n",
      "152342   6.174564 -19.879465\n",
      "152343   3.540959 -15.943724\n",
      "152344   1.176859 -12.275988\n",
      "152345  -0.632578  -9.277332\n",
      "152346  -1.959916  -7.282389\n",
      "152347  -2.924797  -5.834223\n",
      "152348  -3.796756  -4.237021\n",
      "152349  -3.678912  -1.912996\n",
      "152350   4.957768   3.394528\n",
      "152351  11.963519   7.176400\n",
      "152352  12.466862   7.619017\n",
      "152353  12.350929   7.720777\n",
      "152354  12.155835   7.769280\n",
      "152355  11.033200   7.201941\n",
      "\n",
      "[152356 rows x 2 columns]\n"
     ]
    }
   ],
   "source": [
    "from sklearn.preprocessing import StandardScaler\n",
    "from sklearn.decomposition import PCA\n",
    "Xdata = data[['X1','X2','X3','X4','X5','X6','X7','X8']]\n",
    "features= ['X1','X2','X3','X4','X5','X6','X7','X8']\n",
    "#Xdata = StandardScaler().fit_transform(Xdata)\n",
    "pca = PCA(n_components=2)\n",
    "principalComponents = pca.fit_transform(Xdata)\n",
    "pplDf = pd.DataFrame(data = principalComponents, columns = ['pcacomp_1', 'pcacomp_2'])\n",
    "print(pplDf)"
   ]
  },
  {
   "cell_type": "markdown",
   "metadata": {},
   "source": [
    "## Ques 5 : Model \"merged exp normal.csv\" using Gaussian distribution\n",
    "## Considering all features are dependent"
   ]
  },
  {
   "cell_type": "code",
   "execution_count": 53,
   "metadata": {
    "scrolled": true
   },
   "outputs": [
    {
     "name": "stdout",
     "output_type": "stream",
     "text": [
      "Mean is X1    0.497500\n",
      "X2    0.883802\n",
      "X3    7.763045\n",
      "X4    2.617440\n",
      "X5    0.477496\n",
      "X6    0.849776\n",
      "X7    7.395009\n",
      "X8    2.546401\n",
      "dtype: float64\n",
      "Covariance is [[2.37126651e-01 4.69538930e-01 3.82769718e+00 1.28335979e+00\n",
      "  1.41805293e-01 2.80584469e-01 2.03403131e+00 7.17838004e-01]\n",
      " [4.69538930e-01 9.79348422e-01 9.23135016e+00 2.87561328e+00\n",
      "  2.74457646e-01 5.81016677e-01 5.07358424e+00 1.61912666e+00]\n",
      " [3.82769718e+00 9.23135016e+00 1.93224368e+02 4.20865329e+01\n",
      "  1.95629584e+00 5.18325066e+00 1.12064358e+02 2.43727331e+01]\n",
      " [1.28335979e+00 2.87561328e+00 4.20865329e+01 1.20152229e+01\n",
      "  6.71427684e-01 1.56703191e+00 2.29597979e+01 6.65135806e+00]\n",
      " [1.41805293e-01 2.74457646e-01 1.95629584e+00 6.71427684e-01\n",
      "  6.08147053e-01 1.19032686e+00 8.64479866e+00 2.80735421e+00]\n",
      " [2.80584469e-01 5.81016677e-01 5.18325066e+00 1.56703191e+00\n",
      "  1.19032686e+00 2.46787421e+00 1.96808811e+01 6.13841069e+00]\n",
      " [2.03403131e+00 5.07358424e+00 1.12064358e+02 2.29597979e+01\n",
      "  8.64479866e+00 1.96808811e+01 3.30801704e+02 7.53175891e+01]\n",
      " [7.17838004e-01 1.61912666e+00 2.43727331e+01 6.65135806e+00\n",
      "  2.80735421e+00 6.13841069e+00 7.53175891e+01 2.21051686e+01]]\n",
      "PDF is [1.08981863e-004 1.08416575e-004 1.08687589e-004 ... 4.41067573e-108\n",
      " 3.65317102e-106 4.81035889e-090]\n"
     ]
    },
    {
     "data": {
      "text/plain": [
       "[Text(0, 0.5, 'datapoints'), Text(0.5, 0, 'PDF')]"
      ]
     },
     "execution_count": 53,
     "metadata": {},
     "output_type": "execute_result"
    },
    {
     "data": {
      "image/png": "[encoded data removed]",
      "text/plain": [
       "<Figure size 432x288 with 1 Axes>"
      ]
     },
     "metadata": {
      "needs_background": "light"
     },
     "output_type": "display_data"
    }
   ],
   "source": [
    "data1=data.iloc[:,0:8]\n",
    "\n",
    "def estimateGaussian(data1):\n",
    "    mu = np.mean(data1, axis=0)\n",
    "    sigma = np.cov(data1.T)\n",
    "    return mu, sigma\n",
    "def multivariateGaussian(dataset,mu,sigma):\n",
    "    p = multivariate_normal(mean=mu, cov=sigma)\n",
    "    return p.pdf(dataset)\n",
    "\n",
    "mu,sigma= estimateGaussian(data1)\n",
    "pdf = multivariateGaussian(data1,mu,sigma)\n",
    "print(f'Mean is {mu}\\nCovariance is {sigma}\\nPDF is {pdf}')\n",
    "ax=sns.distplot(pdf);\n",
    "ax.set(xlabel='PDF', ylabel='datapoints')"
   ]
  },
  {
   "cell_type": "markdown",
   "metadata": {},
   "source": [
    "## 5 B) two important features"
   ]
  },
  {
   "cell_type": "code",
   "execution_count": 56,
   "metadata": {},
   "outputs": [
    {
     "name": "stdout",
     "output_type": "stream",
     "text": [
      "Mean is [0.4974997  0.88380239]\n",
      "Covariance is [[0.23712665 0.46953893]\n",
      " [0.46953893 0.97934842]]\n",
      "PDF is [1.44920334 1.44771044 1.44707598 ... 0.61759315 0.64844257 0.66137463]\n"
     ]
    },
    {
     "data": {
      "text/plain": [
       "[Text(0, 0.5, 'datapoints'), Text(0.5, 0, 'PDF')]"
      ]
     },
     "execution_count": 56,
     "metadata": {},
     "output_type": "execute_result"
    },
    {
     "data": {
      "image/png": "[encoded data removed]",
      "text/plain": [
       "<Figure size 432x288 with 1 Axes>"
      ]
     },
     "metadata": {
      "needs_background": "light"
     },
     "output_type": "display_data"
    }
   ],
   "source": [
    "data1=data.iloc[:,0:2]\n",
    "\n",
    "def estimateGaussian(data1):\n",
    "    mu = np.mean(data1, axis=0)\n",
    "    sigma = np.cov(data1.T)\n",
    "    return mu, sigma\n",
    "def multivariateGaussian(dataset,mu,sigma):\n",
    "    p = multivariate_normal(mean=mu, cov=sigma)\n",
    "    return p.pdf(dataset)\n",
    "\n",
    "mu,sigma= estimateGaussian(data1)\n",
    "pdf = multivariateGaussian(data1,mu,sigma)\n",
    "print(f'Mean is {mu.values}\\nCovariance is {sigma}\\nPDF is {pdf}')\n",
    "ax=sns.distplot(pdf);\n",
    "ax.set(xlabel='PDF', ylabel='datapoints')"
   ]
  },
  {
   "cell_type": "markdown",
   "metadata": {},
   "source": [
    "## 5. C) PCA"
   ]
  },
  {
   "cell_type": "code",
   "execution_count": 59,
   "metadata": {
    "scrolled": true
   },
   "outputs": [
    {
     "name": "stdout",
     "output_type": "stream",
     "text": [
      "        pcacomp_1  pcacomp_2\n",
      "0       -3.266245   0.433386\n",
      "1       -3.217673   0.467019\n",
      "2       -3.187650   0.484955\n",
      "3       -3.283749   0.442591\n",
      "4       -3.402870   0.398576\n",
      "5       -3.610113   0.496068\n",
      "6       -3.778678   0.775731\n",
      "7       -3.887797   0.790935\n",
      "8       -3.926794   0.778865\n",
      "9       -3.850411   0.828779\n",
      "10      -3.786833   0.873551\n",
      "11      -3.742733   0.905466\n",
      "12      -3.736759   0.919992\n",
      "13      -3.752507   0.923270\n",
      "14      -3.837697   0.890808\n",
      "15      -3.909215   0.862733\n",
      "16      -3.861959   0.896903\n",
      "17      -3.824237   0.924537\n",
      "18      -3.861387   0.915132\n",
      "19      -3.869418   0.923859\n",
      "20      -3.876027   0.937935\n",
      "21      -3.915234   0.935306\n",
      "22      -3.983012   0.914373\n",
      "23      -4.075406   0.882349\n",
      "24      -4.093406   0.895013\n",
      "25      -4.010414   0.956849\n",
      "26      -3.968570   0.995171\n",
      "27      -3.961576   1.012610\n",
      "28      -3.993361   1.012150\n",
      "29      -4.018145   1.012295\n",
      "...           ...        ...\n",
      "152326  48.629433 -90.091956\n",
      "152327  45.799515 -85.063747\n",
      "152328  43.194285 -80.257659\n",
      "152329  40.090362 -74.724470\n",
      "152330  37.213094 -69.835798\n",
      "152331  34.852613 -65.995954\n",
      "152332  31.965527 -61.369102\n",
      "152333  29.209945 -56.965891\n",
      "152334  26.801917 -53.350411\n",
      "152335  24.072185 -49.103429\n",
      "152336  21.040913 -44.234223\n",
      "152337  18.176888 -39.421332\n",
      "152338  15.664707 -35.165146\n",
      "152339  13.135193 -31.058354\n",
      "152340  10.624778 -26.883634\n",
      "152341   8.448110 -23.399172\n",
      "152342   6.174564 -19.879465\n",
      "152343   3.540959 -15.943724\n",
      "152344   1.176859 -12.275988\n",
      "152345  -0.632578  -9.277332\n",
      "152346  -1.959916  -7.282389\n",
      "152347  -2.924797  -5.834223\n",
      "152348  -3.796756  -4.237021\n",
      "152349  -3.678912  -1.912996\n",
      "152350   4.957768   3.394528\n",
      "152351  11.963519   7.176400\n",
      "152352  12.466862   7.619017\n",
      "152353  12.350929   7.720777\n",
      "152354  12.155835   7.769280\n",
      "152355  11.033200   7.201941\n",
      "\n",
      "[152356 rows x 2 columns]\n",
      "Mean is [-1.55774588e-15 -6.90793131e-16]\n",
      "Covariance is [[4.14758996e+02 6.11284549e-15]\n",
      " [6.11284549e-15 1.37993248e+02]]\n",
      "PDF is [0.00065631 0.00065649 0.0006566  ... 0.00044599 0.00044735 0.00047604]\n"
     ]
    },
    {
     "data": {
      "text/plain": [
       "[Text(0, 0.5, 'datapoints'), Text(0.5, 0, 'PDF')]"
      ]
     },
     "execution_count": 59,
     "metadata": {},
     "output_type": "execute_result"
    },
    {
     "data": {
      "image/png": "[encoded data removed]",
      "text/plain": [
       "<Figure size 432x288 with 1 Axes>"
      ]
     },
     "metadata": {
      "needs_background": "light"
     },
     "output_type": "display_data"
    }
   ],
   "source": [
    "from sklearn.preprocessing import StandardScaler\n",
    "from sklearn.decomposition import PCA\n",
    "Xdata5 = data[['X1','X2','X3','X4','X5','X6','X7','X8']]\n",
    "features5= ['X1','X2','X3','X4','X5','X6','X7','X8']\n",
    "#Xdata5 = StandardScaler().fit_transform(Xdata5)\n",
    "pca5 = PCA(n_components=2)\n",
    "principalComponents5 = pca5.fit_transform(Xdata5)\n",
    "pplDf5 = pd.DataFrame(data = principalComponents5, columns = ['pcacomp_1', 'pcacomp_2'])\n",
    "print(pplDf5)\n",
    "mu5,sigma5= estimateGaussian(pplDf5)\n",
    "pdf5 = multivariateGaussian(pplDf5,mu5,sigma5)\n",
    "print(f'Mean is {mu5.values}\\nCovariance is {sigma5}\\nPDF is {pdf5}')\n",
    "ax=sns.distplot(pdf5);\n",
    "ax.set(xlabel='PDF', ylabel='datapoints')"
   ]
  },
  {
   "cell_type": "markdown",
   "metadata": {},
   "source": [
    "## Ques 6. Anomaly detection on the model obtained from Ques 5"
   ]
  },
  {
   "cell_type": "code",
   "execution_count": 122,
   "metadata": {},
   "outputs": [
    {
     "name": "stdout",
     "output_type": "stream",
     "text": [
      "the explanation has been made based on HEAT_ID_05_ALARM_OUT_tag.csv , please enter the path for sameC:\\Users\\solan\\Downloads\\Subjects\\Winter\\Machine Learning\\exam\\Datasets\\Datasets\\Experiments_with_Anomalies\\HEAT_ID_05_ALARM_OUT_tag.csv\n",
      "Test case used HEAT_ID_05_ALARM_OUT_tag.csv\n",
      "Epsilon value from Gaussian model of 5th ques used : 0.0001652625192825427\n",
      "Total anomalies predicted to generate an alarm 416\n",
      "Total actual anomalies in dataset 241\n",
      "total no. of examples : 2499\n",
      "Precision is 0.5793269230769231\n"
     ]
    }
   ],
   "source": [
    "#c=r'C:\\Users\\solan\\Downloads\\Subjects\\Winter\\Machine Learning\\exam\\Datasets\\Datasets\\Experiments_with_Anomalies\\HEAT_ID_05_ALARM_OUT_tag.csv'\n",
    "c=input('the explanation has been made based on HEAT_ID_05_ALARM_OUT_tag.csv , please enter the path for same')\n",
    "datacc = pd.read_csv(c)\n",
    "datac1 = datacc[datacc.Sds_Armed != 0]\n",
    "datac=datac1.iloc[:,0:8]\n",
    "muc,sigmac= estimateGaussian(datac)\n",
    "pdfcc = multivariateGaussian(datac,muc,sigmac)\n",
    "# Epsilon choden randomly from training model.\n",
    "th=0.0001652625192825427\n",
    "totalp=np.sum(pdfcc<th)\n",
    "totala=np.sum(datac1.Anomaly_Tag==1)\n",
    "Precision = totala/totalp\n",
    "print('Test case used HEAT_ID_05_ALARM_OUT_tag.csv')\n",
    "print(f'Epsilon value from Gaussian model of 5th ques used : {th}')\n",
    "print(f'Total anomalies predicted to generate an alarm {totalp}')\n",
    "print(f'Total actual anomalies in dataset {totala}')\n",
    "print(f'total no. of examples : {len(datac1)}')\n",
    "print(f'Precision is {Precision}')"
   ]
  },
  {
   "cell_type": "markdown",
   "metadata": {},
   "source": [
    "## Ques 7 Plot of generated alarm, true anomaly flags(from the dataset) and the feature X1"
   ]
  },
  {
   "cell_type": "code",
   "execution_count": 113,
   "metadata": {
    "collapsed": true
   },
   "outputs": [
    {
     "ename": "KeyError",
     "evalue": "'ANd'",
     "output_type": "error",
     "traceback": [
      "\u001b[1;31m---------------------------------------------------------------------------\u001b[0m",
      "\u001b[1;31mKeyError\u001b[0m                                  Traceback (most recent call last)",
      "\u001b[1;32m~\\Anaconda3\\lib\\site-packages\\pandas\\core\\indexes\\base.py\u001b[0m in \u001b[0;36mget_loc\u001b[1;34m(self, key, method, tolerance)\u001b[0m\n\u001b[0;32m   3077\u001b[0m             \u001b[1;32mtry\u001b[0m\u001b[1;33m:\u001b[0m\u001b[1;33m\u001b[0m\u001b[1;33m\u001b[0m\u001b[0m\n\u001b[1;32m-> 3078\u001b[1;33m                 \u001b[1;32mreturn\u001b[0m \u001b[0mself\u001b[0m\u001b[1;33m.\u001b[0m\u001b[0m_engine\u001b[0m\u001b[1;33m.\u001b[0m\u001b[0mget_loc\u001b[0m\u001b[1;33m(\u001b[0m\u001b[0mkey\u001b[0m\u001b[1;33m)\u001b[0m\u001b[1;33m\u001b[0m\u001b[1;33m\u001b[0m\u001b[0m\n\u001b[0m\u001b[0;32m   3079\u001b[0m             \u001b[1;32mexcept\u001b[0m \u001b[0mKeyError\u001b[0m\u001b[1;33m:\u001b[0m\u001b[1;33m\u001b[0m\u001b[1;33m\u001b[0m\u001b[0m\n",
      "\u001b[1;32mpandas\\_libs\\index.pyx\u001b[0m in \u001b[0;36mpandas._libs.index.IndexEngine.get_loc\u001b[1;34m()\u001b[0m\n",
      "\u001b[1;32mpandas\\_libs\\index.pyx\u001b[0m in \u001b[0;36mpandas._libs.index.IndexEngine.get_loc\u001b[1;34m()\u001b[0m\n",
      "\u001b[1;32mpandas\\_libs\\hashtable_class_helper.pxi\u001b[0m in \u001b[0;36mpandas._libs.hashtable.PyObjectHashTable.get_item\u001b[1;34m()\u001b[0m\n",
      "\u001b[1;32mpandas\\_libs\\hashtable_class_helper.pxi\u001b[0m in \u001b[0;36mpandas._libs.hashtable.PyObjectHashTable.get_item\u001b[1;34m()\u001b[0m\n",
      "\u001b[1;31mKeyError\u001b[0m: 'ANd'",
      "\nDuring handling of the above exception, another exception occurred:\n",
      "\u001b[1;31mKeyError\u001b[0m                                  Traceback (most recent call last)",
      "\u001b[1;32m<ipython-input-113-722bbea2e796>\u001b[0m in \u001b[0;36m<module>\u001b[1;34m\u001b[0m\n\u001b[0;32m      4\u001b[0m \u001b[1;32mfor\u001b[0m \u001b[0mi\u001b[0m \u001b[1;32min\u001b[0m \u001b[0mrange\u001b[0m\u001b[1;33m(\u001b[0m\u001b[1;36m2499\u001b[0m\u001b[1;33m)\u001b[0m\u001b[1;33m:\u001b[0m\u001b[1;33m\u001b[0m\u001b[1;33m\u001b[0m\u001b[0m\n\u001b[0;32m      5\u001b[0m     \u001b[1;32mif\u001b[0m \u001b[0md7\u001b[0m\u001b[1;33m[\u001b[0m\u001b[1;34m'AN'\u001b[0m\u001b[1;33m]\u001b[0m\u001b[1;33m.\u001b[0m\u001b[0mvalues\u001b[0m\u001b[1;33m[\u001b[0m\u001b[0mi\u001b[0m\u001b[1;33m]\u001b[0m \u001b[1;33m<\u001b[0m \u001b[0mth\u001b[0m\u001b[1;33m:\u001b[0m\u001b[1;33m\u001b[0m\u001b[1;33m\u001b[0m\u001b[0m\n\u001b[1;32m----> 6\u001b[1;33m         \u001b[0md7\u001b[0m\u001b[1;33m[\u001b[0m\u001b[1;34m'ANd'\u001b[0m\u001b[1;33m]\u001b[0m\u001b[1;33m[\u001b[0m\u001b[0mi\u001b[0m\u001b[1;33m]\u001b[0m\u001b[1;33m=\u001b[0m \u001b[1;36m0\u001b[0m\u001b[1;33m\u001b[0m\u001b[1;33m\u001b[0m\u001b[0m\n\u001b[0m\u001b[0;32m      7\u001b[0m     \u001b[1;32melse\u001b[0m\u001b[1;33m:\u001b[0m\u001b[1;33m\u001b[0m\u001b[1;33m\u001b[0m\u001b[0m\n\u001b[0;32m      8\u001b[0m         \u001b[0md7\u001b[0m\u001b[1;33m[\u001b[0m\u001b[1;34m'ANd'\u001b[0m\u001b[1;33m]\u001b[0m\u001b[1;33m[\u001b[0m\u001b[0mi\u001b[0m\u001b[1;33m]\u001b[0m\u001b[1;33m=\u001b[0m \u001b[1;36m1\u001b[0m\u001b[1;33m\u001b[0m\u001b[1;33m\u001b[0m\u001b[0m\n",
      "\u001b[1;32m~\\Anaconda3\\lib\\site-packages\\pandas\\core\\frame.py\u001b[0m in \u001b[0;36m__getitem__\u001b[1;34m(self, key)\u001b[0m\n\u001b[0;32m   2686\u001b[0m             \u001b[1;32mreturn\u001b[0m \u001b[0mself\u001b[0m\u001b[1;33m.\u001b[0m\u001b[0m_getitem_multilevel\u001b[0m\u001b[1;33m(\u001b[0m\u001b[0mkey\u001b[0m\u001b[1;33m)\u001b[0m\u001b[1;33m\u001b[0m\u001b[1;33m\u001b[0m\u001b[0m\n\u001b[0;32m   2687\u001b[0m         \u001b[1;32melse\u001b[0m\u001b[1;33m:\u001b[0m\u001b[1;33m\u001b[0m\u001b[1;33m\u001b[0m\u001b[0m\n\u001b[1;32m-> 2688\u001b[1;33m             \u001b[1;32mreturn\u001b[0m \u001b[0mself\u001b[0m\u001b[1;33m.\u001b[0m\u001b[0m_getitem_column\u001b[0m\u001b[1;33m(\u001b[0m\u001b[0mkey\u001b[0m\u001b[1;33m)\u001b[0m\u001b[1;33m\u001b[0m\u001b[1;33m\u001b[0m\u001b[0m\n\u001b[0m\u001b[0;32m   2689\u001b[0m \u001b[1;33m\u001b[0m\u001b[0m\n\u001b[0;32m   2690\u001b[0m     \u001b[1;32mdef\u001b[0m \u001b[0m_getitem_column\u001b[0m\u001b[1;33m(\u001b[0m\u001b[0mself\u001b[0m\u001b[1;33m,\u001b[0m \u001b[0mkey\u001b[0m\u001b[1;33m)\u001b[0m\u001b[1;33m:\u001b[0m\u001b[1;33m\u001b[0m\u001b[1;33m\u001b[0m\u001b[0m\n",
      "\u001b[1;32m~\\Anaconda3\\lib\\site-packages\\pandas\\core\\frame.py\u001b[0m in \u001b[0;36m_getitem_column\u001b[1;34m(self, key)\u001b[0m\n\u001b[0;32m   2693\u001b[0m         \u001b[1;31m# get column\u001b[0m\u001b[1;33m\u001b[0m\u001b[1;33m\u001b[0m\u001b[1;33m\u001b[0m\u001b[0m\n\u001b[0;32m   2694\u001b[0m         \u001b[1;32mif\u001b[0m \u001b[0mself\u001b[0m\u001b[1;33m.\u001b[0m\u001b[0mcolumns\u001b[0m\u001b[1;33m.\u001b[0m\u001b[0mis_unique\u001b[0m\u001b[1;33m:\u001b[0m\u001b[1;33m\u001b[0m\u001b[1;33m\u001b[0m\u001b[0m\n\u001b[1;32m-> 2695\u001b[1;33m             \u001b[1;32mreturn\u001b[0m \u001b[0mself\u001b[0m\u001b[1;33m.\u001b[0m\u001b[0m_get_item_cache\u001b[0m\u001b[1;33m(\u001b[0m\u001b[0mkey\u001b[0m\u001b[1;33m)\u001b[0m\u001b[1;33m\u001b[0m\u001b[1;33m\u001b[0m\u001b[0m\n\u001b[0m\u001b[0;32m   2696\u001b[0m \u001b[1;33m\u001b[0m\u001b[0m\n\u001b[0;32m   2697\u001b[0m         \u001b[1;31m# duplicate columns & possible reduce dimensionality\u001b[0m\u001b[1;33m\u001b[0m\u001b[1;33m\u001b[0m\u001b[1;33m\u001b[0m\u001b[0m\n",
      "\u001b[1;32m~\\Anaconda3\\lib\\site-packages\\pandas\\core\\generic.py\u001b[0m in \u001b[0;36m_get_item_cache\u001b[1;34m(self, item)\u001b[0m\n\u001b[0;32m   2487\u001b[0m         \u001b[0mres\u001b[0m \u001b[1;33m=\u001b[0m \u001b[0mcache\u001b[0m\u001b[1;33m.\u001b[0m\u001b[0mget\u001b[0m\u001b[1;33m(\u001b[0m\u001b[0mitem\u001b[0m\u001b[1;33m)\u001b[0m\u001b[1;33m\u001b[0m\u001b[1;33m\u001b[0m\u001b[0m\n\u001b[0;32m   2488\u001b[0m         \u001b[1;32mif\u001b[0m \u001b[0mres\u001b[0m \u001b[1;32mis\u001b[0m \u001b[1;32mNone\u001b[0m\u001b[1;33m:\u001b[0m\u001b[1;33m\u001b[0m\u001b[1;33m\u001b[0m\u001b[0m\n\u001b[1;32m-> 2489\u001b[1;33m             \u001b[0mvalues\u001b[0m \u001b[1;33m=\u001b[0m \u001b[0mself\u001b[0m\u001b[1;33m.\u001b[0m\u001b[0m_data\u001b[0m\u001b[1;33m.\u001b[0m\u001b[0mget\u001b[0m\u001b[1;33m(\u001b[0m\u001b[0mitem\u001b[0m\u001b[1;33m)\u001b[0m\u001b[1;33m\u001b[0m\u001b[1;33m\u001b[0m\u001b[0m\n\u001b[0m\u001b[0;32m   2490\u001b[0m             \u001b[0mres\u001b[0m \u001b[1;33m=\u001b[0m \u001b[0mself\u001b[0m\u001b[1;33m.\u001b[0m\u001b[0m_box_item_values\u001b[0m\u001b[1;33m(\u001b[0m\u001b[0mitem\u001b[0m\u001b[1;33m,\u001b[0m \u001b[0mvalues\u001b[0m\u001b[1;33m)\u001b[0m\u001b[1;33m\u001b[0m\u001b[1;33m\u001b[0m\u001b[0m\n\u001b[0;32m   2491\u001b[0m             \u001b[0mcache\u001b[0m\u001b[1;33m[\u001b[0m\u001b[0mitem\u001b[0m\u001b[1;33m]\u001b[0m \u001b[1;33m=\u001b[0m \u001b[0mres\u001b[0m\u001b[1;33m\u001b[0m\u001b[1;33m\u001b[0m\u001b[0m\n",
      "\u001b[1;32m~\\Anaconda3\\lib\\site-packages\\pandas\\core\\internals.py\u001b[0m in \u001b[0;36mget\u001b[1;34m(self, item, fastpath)\u001b[0m\n\u001b[0;32m   4113\u001b[0m \u001b[1;33m\u001b[0m\u001b[0m\n\u001b[0;32m   4114\u001b[0m             \u001b[1;32mif\u001b[0m \u001b[1;32mnot\u001b[0m \u001b[0misna\u001b[0m\u001b[1;33m(\u001b[0m\u001b[0mitem\u001b[0m\u001b[1;33m)\u001b[0m\u001b[1;33m:\u001b[0m\u001b[1;33m\u001b[0m\u001b[1;33m\u001b[0m\u001b[0m\n\u001b[1;32m-> 4115\u001b[1;33m                 \u001b[0mloc\u001b[0m \u001b[1;33m=\u001b[0m \u001b[0mself\u001b[0m\u001b[1;33m.\u001b[0m\u001b[0mitems\u001b[0m\u001b[1;33m.\u001b[0m\u001b[0mget_loc\u001b[0m\u001b[1;33m(\u001b[0m\u001b[0mitem\u001b[0m\u001b[1;33m)\u001b[0m\u001b[1;33m\u001b[0m\u001b[1;33m\u001b[0m\u001b[0m\n\u001b[0m\u001b[0;32m   4116\u001b[0m             \u001b[1;32melse\u001b[0m\u001b[1;33m:\u001b[0m\u001b[1;33m\u001b[0m\u001b[1;33m\u001b[0m\u001b[0m\n\u001b[0;32m   4117\u001b[0m                 \u001b[0mindexer\u001b[0m \u001b[1;33m=\u001b[0m \u001b[0mnp\u001b[0m\u001b[1;33m.\u001b[0m\u001b[0marange\u001b[0m\u001b[1;33m(\u001b[0m\u001b[0mlen\u001b[0m\u001b[1;33m(\u001b[0m\u001b[0mself\u001b[0m\u001b[1;33m.\u001b[0m\u001b[0mitems\u001b[0m\u001b[1;33m)\u001b[0m\u001b[1;33m)\u001b[0m\u001b[1;33m[\u001b[0m\u001b[0misna\u001b[0m\u001b[1;33m(\u001b[0m\u001b[0mself\u001b[0m\u001b[1;33m.\u001b[0m\u001b[0mitems\u001b[0m\u001b[1;33m)\u001b[0m\u001b[1;33m]\u001b[0m\u001b[1;33m\u001b[0m\u001b[1;33m\u001b[0m\u001b[0m\n",
      "\u001b[1;32m~\\Anaconda3\\lib\\site-packages\\pandas\\core\\indexes\\base.py\u001b[0m in \u001b[0;36mget_loc\u001b[1;34m(self, key, method, tolerance)\u001b[0m\n\u001b[0;32m   3078\u001b[0m                 \u001b[1;32mreturn\u001b[0m \u001b[0mself\u001b[0m\u001b[1;33m.\u001b[0m\u001b[0m_engine\u001b[0m\u001b[1;33m.\u001b[0m\u001b[0mget_loc\u001b[0m\u001b[1;33m(\u001b[0m\u001b[0mkey\u001b[0m\u001b[1;33m)\u001b[0m\u001b[1;33m\u001b[0m\u001b[1;33m\u001b[0m\u001b[0m\n\u001b[0;32m   3079\u001b[0m             \u001b[1;32mexcept\u001b[0m \u001b[0mKeyError\u001b[0m\u001b[1;33m:\u001b[0m\u001b[1;33m\u001b[0m\u001b[1;33m\u001b[0m\u001b[0m\n\u001b[1;32m-> 3080\u001b[1;33m                 \u001b[1;32mreturn\u001b[0m \u001b[0mself\u001b[0m\u001b[1;33m.\u001b[0m\u001b[0m_engine\u001b[0m\u001b[1;33m.\u001b[0m\u001b[0mget_loc\u001b[0m\u001b[1;33m(\u001b[0m\u001b[0mself\u001b[0m\u001b[1;33m.\u001b[0m\u001b[0m_maybe_cast_indexer\u001b[0m\u001b[1;33m(\u001b[0m\u001b[0mkey\u001b[0m\u001b[1;33m)\u001b[0m\u001b[1;33m)\u001b[0m\u001b[1;33m\u001b[0m\u001b[1;33m\u001b[0m\u001b[0m\n\u001b[0m\u001b[0;32m   3081\u001b[0m \u001b[1;33m\u001b[0m\u001b[0m\n\u001b[0;32m   3082\u001b[0m         \u001b[0mindexer\u001b[0m \u001b[1;33m=\u001b[0m \u001b[0mself\u001b[0m\u001b[1;33m.\u001b[0m\u001b[0mget_indexer\u001b[0m\u001b[1;33m(\u001b[0m\u001b[1;33m[\u001b[0m\u001b[0mkey\u001b[0m\u001b[1;33m]\u001b[0m\u001b[1;33m,\u001b[0m \u001b[0mmethod\u001b[0m\u001b[1;33m=\u001b[0m\u001b[0mmethod\u001b[0m\u001b[1;33m,\u001b[0m \u001b[0mtolerance\u001b[0m\u001b[1;33m=\u001b[0m\u001b[0mtolerance\u001b[0m\u001b[1;33m)\u001b[0m\u001b[1;33m\u001b[0m\u001b[1;33m\u001b[0m\u001b[0m\n",
      "\u001b[1;32mpandas\\_libs\\index.pyx\u001b[0m in \u001b[0;36mpandas._libs.index.IndexEngine.get_loc\u001b[1;34m()\u001b[0m\n",
      "\u001b[1;32mpandas\\_libs\\index.pyx\u001b[0m in \u001b[0;36mpandas._libs.index.IndexEngine.get_loc\u001b[1;34m()\u001b[0m\n",
      "\u001b[1;32mpandas\\_libs\\hashtable_class_helper.pxi\u001b[0m in \u001b[0;36mpandas._libs.hashtable.PyObjectHashTable.get_item\u001b[1;34m()\u001b[0m\n",
      "\u001b[1;32mpandas\\_libs\\hashtable_class_helper.pxi\u001b[0m in \u001b[0;36mpandas._libs.hashtable.PyObjectHashTable.get_item\u001b[1;34m()\u001b[0m\n",
      "\u001b[1;31mKeyError\u001b[0m: 'ANd'"
     ]
    }
   ],
   "source": [
    "d7=pd.DataFrame(pdfcc,datac1['X1'])\n",
    "d7['AN']= datac1['Anomaly_Tag'].values\n",
    "\n",
    "for i in range(2499):\n",
    "    if d7['AN'].values[i] < th:\n",
    "        d7['ANd'][i]= 0\n",
    "    else:\n",
    "        d7['ANd'][i]= 1\n",
    "print(d7)\n"
   ]
  },
  {
   "cell_type": "markdown",
   "metadata": {},
   "source": [
    "## Ques 8 : supervised learning: Logistic Regression for classifying the events"
   ]
  },
  {
   "cell_type": "code",
   "execution_count": 150,
   "metadata": {
    "collapsed": true
   },
   "outputs": [
    {
     "name": "stdout",
     "output_type": "stream",
     "text": [
      "confusion matrix:[[409   0]\n",
      " [ 32  11]]\n",
      " Accuracy is : 0.9292035398230089\n",
      " Precision is : 1.0\n",
      " Recall Score is : 0.2558139534883721\n",
      " F1 Score is : 0.40740740740740744\n",
      "report:               precision    recall  f1-score   support\n",
      "\n",
      "           0       0.93      1.00      0.96       409\n",
      "           1       1.00      0.26      0.41        43\n",
      "\n",
      "   micro avg       0.93      0.93      0.93       452\n",
      "   macro avg       0.96      0.63      0.68       452\n",
      "weighted avg       0.93      0.93      0.91       452\n",
      "\n"
     ]
    }
   ],
   "source": [
    "from sklearn.linear_model import LogisticRegression\n",
    "from sklearn.metrics import accuracy_score, classification_report, precision_score, recall_score \n",
    "from sklearn.metrics import confusion_matrix, precision_recall_curve, roc_curve, auc, log_loss, f1_score\n",
    "#d=r'C:\\Users\\solan\\Downloads\\Subjects\\Winter\\Machine Learning\\exam\\Datasets\\Datasets\\Experiments_with_Anomalies\\HEAT_ID_05_ALARM_OUT_tag.csv'\n",
    "datacc = pd.read_csv(c)\n",
    "c1 = datacc[datacc.Sds_Armed != 0]\n",
    "c1['split'] = np.random.randn(c1.shape[0], 1)\n",
    "msk = np.random.rand(len(c1)) <= 0.80\n",
    "val = c1[msk]\n",
    "test = c1[~msk]\n",
    "X = val.iloc[:,0:8]\n",
    "Y=val.iloc[:,9]\n",
    "logreg = LogisticRegression()\n",
    "logreg.fit(X,Y)\n",
    "y_pred = logreg.predict(test.iloc[:,0:8])\n",
    "#print(y_pred)\n",
    "# y_pred_proba = logreg.predict_proba(test.iloc[:,0:8])[:, 1]\n",
    "# [fpr, tpr, thr] = roc_curve(test.iloc[:,9], y_pred_proba)\n",
    "print(f'confusion matrix:{confusion_matrix(test.iloc[:,9], y_pred)}')\n",
    "print(f' Accuracy is : {accuracy_score(test.iloc[:,9], y_pred)}')\n",
    "print(f' Precision is : {precision_score(test.iloc[:,9], y_pred)}')\n",
    "print(f' Recall Score is : {recall_score(test.iloc[:,9], y_pred)}')\n",
    "print(f' F1 Score is : {f1_score(test.iloc[:,9], y_pred)}')\n",
    "print(f'report: {classification_report(test.iloc[:,9], y_pred)}')"
   ]
  },
  {
   "cell_type": "markdown",
   "metadata": {},
   "source": [
    "## Ques 9 : Unsupervised learning: Kmeans Clustering"
   ]
  },
  {
   "cell_type": "code",
   "execution_count": 156,
   "metadata": {},
   "outputs": [
    {
     "name": "stdout",
     "output_type": "stream",
     "text": [
      "Clustering completed after 7 iterations\n",
      "[0 0 0 ... 0 0 0] [[1.19843001e+00 8.36415438e-01 1.26881225e+01 5.79493018e+00\n",
      "  1.20888596e+00 8.37730749e-01 7.33470915e+00 2.76686236e+00]\n",
      " [3.69282892e+00 1.30038790e+01 1.27900728e+03 7.52745887e+02\n",
      "  4.08479390e+00 1.42947421e+01 1.99799051e+03 1.15755733e+03]]\n",
      "total datapoints correctly predicted 25484\n",
      "Manual K-Means Classification Precision =  0.9831790123456791\n"
     ]
    }
   ],
   "source": [
    "import numpy as np\n",
    "\n",
    "def kmeans(data, k=3, normalize=False, limit=500):\n",
    "    \"\"\"Basic k-means clustering algorithm.\n",
    "    \"\"\"\n",
    "    if normalize:\n",
    "        stats = (data.mean(axis=0), data.std(axis=0))\n",
    "        data = (data - stats[0]) / stats[1]\n",
    "    centers = data[:k]\n",
    "    for i in range(limit):\n",
    "        classifications = np.argmin(((data[:, :, None] - centers.T[None, :, :])**2).sum(axis=1), axis=1)\n",
    "        new_centers = np.array([data[classifications == j, :].mean(axis=0) for j in range(k)])\n",
    "        if (new_centers == centers).all():\n",
    "            break\n",
    "        else:\n",
    "            centers = new_centers\n",
    "    else:\n",
    "        raise RuntimeError(f\"Clustering algorithm did not complete within {limit} iterations\")\n",
    "    if normalize:\n",
    "        centers = centers * stats[1] + stats[0]\n",
    "    print(f\"Clustering completed after {i} iterations\")\n",
    "    return classifications, centers\n",
    "\n",
    "#df = pd.read_csv(c)\n",
    "val1 = datacc\n",
    "#print(val1)\n",
    "X = val1.iloc[:,0:8]\n",
    "Y=val1.iloc[:,9]\n",
    "\n",
    "#num_features = X.shape[1]\n",
    "classifications, centers = kmeans(np.asarray(X), k=2)\n",
    "Accuracy=0\n",
    "for index in range(len(X)):\n",
    "\t# Cluster the data using K-Means\n",
    "\tcurrent_label = Y[index]\n",
    "\tpredicted_label = classifications[index]\n",
    "\n",
    "\tif current_label == predicted_label:\n",
    "\t\tAccuracy += 1\n",
    "\n",
    "Precision= Accuracy\n",
    "Precision /= len(X)\n",
    "print(classifications, centers)\n",
    "print(f'total datapoints correctly predicted {Accuracy}')\n",
    "print(\"Manual K-Means Classification Precision = \", Precision)\n"
   ]
  },
  {
   "cell_type": "markdown",
   "metadata": {},
   "source": [
    "## Ques 11. Optimize the parameter Epsilon"
   ]
  },
  {
   "cell_type": "code",
   "execution_count": 174,
   "metadata": {
    "collapsed": true
   },
   "outputs": [
    {
     "ename": "TypeError",
     "evalue": "'str' object is not callable",
     "output_type": "error",
     "traceback": [
      "\u001b[1;31m---------------------------------------------------------------------------\u001b[0m",
      "\u001b[1;31mTypeError\u001b[0m                                 Traceback (most recent call last)",
      "\u001b[1;32m<ipython-input-174-f5f7139a4941>\u001b[0m in \u001b[0;36m<module>\u001b[1;34m\u001b[0m\n\u001b[0;32m      1\u001b[0m \u001b[1;32mimport\u001b[0m \u001b[0mnumpy\u001b[0m \u001b[1;32mas\u001b[0m \u001b[0mnp\u001b[0m\u001b[1;33m\u001b[0m\u001b[1;33m\u001b[0m\u001b[0m\n\u001b[1;32m----> 2\u001b[1;33m \u001b[0mb\u001b[0m \u001b[1;33m=\u001b[0m \u001b[0minput\u001b[0m\u001b[1;33m(\u001b[0m\u001b[1;34m'input the path for HEAT_ID_05_ALARM_OUT_tag.csv'\u001b[0m\u001b[1;33m)\u001b[0m\u001b[1;33m\u001b[0m\u001b[1;33m\u001b[0m\u001b[0m\n\u001b[0m\u001b[0;32m      3\u001b[0m \u001b[0mdf\u001b[0m \u001b[1;33m=\u001b[0m \u001b[0mpd\u001b[0m\u001b[1;33m.\u001b[0m\u001b[0mread_csv\u001b[0m\u001b[1;33m(\u001b[0m\u001b[0mb\u001b[0m\u001b[1;33m)\u001b[0m\u001b[1;33m\u001b[0m\u001b[1;33m\u001b[0m\u001b[0m\n\u001b[0;32m      4\u001b[0m \u001b[0mdf\u001b[0m\u001b[1;33m[\u001b[0m\u001b[1;34m'split'\u001b[0m\u001b[1;33m]\u001b[0m \u001b[1;33m=\u001b[0m \u001b[0mnp\u001b[0m\u001b[1;33m.\u001b[0m\u001b[0mrandom\u001b[0m\u001b[1;33m.\u001b[0m\u001b[0mrandn\u001b[0m\u001b[1;33m(\u001b[0m\u001b[0mdf\u001b[0m\u001b[1;33m.\u001b[0m\u001b[0mshape\u001b[0m\u001b[1;33m[\u001b[0m\u001b[1;36m0\u001b[0m\u001b[1;33m]\u001b[0m\u001b[1;33m,\u001b[0m \u001b[1;36m1\u001b[0m\u001b[1;33m)\u001b[0m\u001b[1;33m\u001b[0m\u001b[1;33m\u001b[0m\u001b[0m\n\u001b[0;32m      5\u001b[0m \u001b[0mmsk\u001b[0m \u001b[1;33m=\u001b[0m \u001b[0mnp\u001b[0m\u001b[1;33m.\u001b[0m\u001b[0mrandom\u001b[0m\u001b[1;33m.\u001b[0m\u001b[0mrand\u001b[0m\u001b[1;33m(\u001b[0m\u001b[0mlen\u001b[0m\u001b[1;33m(\u001b[0m\u001b[0mdf\u001b[0m\u001b[1;33m)\u001b[0m\u001b[1;33m)\u001b[0m \u001b[1;33m<=\u001b[0m \u001b[1;36m0.60\u001b[0m\u001b[1;33m\u001b[0m\u001b[1;33m\u001b[0m\u001b[0m\n",
      "\u001b[1;31mTypeError\u001b[0m: 'str' object is not callable"
     ]
    }
   ],
   "source": [
    "import numpy as np\n",
    "b = input('input the path for HEAT_ID_05_ALARM_OUT_tag.csv')\n",
    "df = pd.read_csv(b)\n",
    "df['split'] = np.random.randn(df.shape[0], 1)\n",
    "msk = np.random.rand(len(df)) <= 0.60\n",
    "val = df[msk]\n",
    "test = df[~msk]\n",
    "\n",
    "val_data= val11.iloc[:,0:8]\n",
    "mut,sigmat= estimateGaussian(val_data)\n",
    "pval = multivariateGaussian(val_data,mut,sigmat)\n",
    "yval=val11.iloc[:,9]\n",
    "\n",
    "\n",
    "def selectThreshHold(yval, pval):\n",
    "    \n",
    "    F1 = 0\n",
    "    bestF1 = 0\n",
    "    bestEpsilon = 0\n",
    "    \n",
    "    stepsize = (np.max(pval) - np.min(pval))/1000\n",
    "        \n",
    "    epsVec = np.arange(np.min(pval), np.max(pval), stepsize)\n",
    "    noe = len(epsVec)\n",
    "    \n",
    "    for eps in range(noe):\n",
    "        epsilon = epsVec[eps]\n",
    "        pred = (pval < epsilon)\n",
    "        prec, rec = 0,0\n",
    "        tp,fp,fn = 0,0,0\n",
    "        \n",
    "        try:\n",
    "            for i in range(np.size(pval,0)):\n",
    "                if pred[i] == 1 and yval[i] == 1:\n",
    "                    tp+=1\n",
    "                elif pred[i] == 1 and yval[i] == 0:\n",
    "                    fp+=1\n",
    "                elif pred[i] == 0 and yval[i] == 1:\n",
    "                    fn+=1\n",
    "            prec = tp/(tp + fp)\n",
    "            rec = tp/(tp + fn)\n",
    "            F1 = 2*prec*rec/(prec + rec)\n",
    "            if F1 > bestF1:\n",
    "                bestF1 = F1\n",
    "                bestEpsilon = epsilon\n",
    "        except ZeroDivisionError:\n",
    "            print('Warning dividing by zero!!')          \n",
    "       \n",
    "    return bestF1, bestEpsilon\n",
    "\n",
    "fscore, ep = selectThreshold(pval,yval)\n",
    "print(fscore, ep)\n",
    "print(pval,yval)\n",
    "\n",
    "total=np.sum(pdf<ep)\n",
    "#print(total)\n",
    "\n",
    "test_data= test.iloc[:,0:8]\n",
    "mut,sigmat= estimateGaussian(test_data)\n",
    "ptest = multivariateGaussian(test_data,mut,sigmat)\n",
    "total=np.sum(ptest<ep)\n",
    "\n",
    "#print(test)\n",
    "totalc=np.sum(test.Anomaly_Tag==1)\n",
    "print(total,totalc)"
   ]
  },
  {
   "cell_type": "markdown",
   "metadata": {},
   "source": [
    "## Ques 12 : "
   ]
  },
  {
   "cell_type": "code",
   "execution_count": 181,
   "metadata": {},
   "outputs": [
    {
     "ename": "TypeError",
     "evalue": "'str' object is not callable",
     "output_type": "error",
     "traceback": [
      "\u001b[1;31m---------------------------------------------------------------------------\u001b[0m",
      "\u001b[1;31mTypeError\u001b[0m                                 Traceback (most recent call last)",
      "\u001b[1;32m<ipython-input-181-9c48d9fde4fb>\u001b[0m in \u001b[0;36m<module>\u001b[1;34m\u001b[0m\n\u001b[0;32m      5\u001b[0m \u001b[1;33m\u001b[0m\u001b[0m\n\u001b[0;32m      6\u001b[0m \u001b[1;31m#n=r'C:\\Users\\solan\\Downloads\\Subjects\\Winter\\Machine Learning\\exam\\Datasets\\Datasets\\Normal_Experiments\\merged exp normal.csv'\u001b[0m\u001b[1;33m\u001b[0m\u001b[1;33m\u001b[0m\u001b[1;33m\u001b[0m\u001b[0m\n\u001b[1;32m----> 7\u001b[1;33m \u001b[0mn\u001b[0m\u001b[1;33m=\u001b[0m\u001b[0minput\u001b[0m\u001b[1;33m(\u001b[0m\u001b[1;34m'Enter the directory path for merged exp normal.csv file'\u001b[0m\u001b[1;33m)\u001b[0m\u001b[1;33m\u001b[0m\u001b[1;33m\u001b[0m\u001b[0m\n\u001b[0m\u001b[0;32m      8\u001b[0m \u001b[0mdata\u001b[0m \u001b[1;33m=\u001b[0m \u001b[0mpd\u001b[0m\u001b[1;33m.\u001b[0m\u001b[0mread_csv\u001b[0m\u001b[1;33m(\u001b[0m\u001b[0mn\u001b[0m\u001b[1;33m)\u001b[0m\u001b[1;33m\u001b[0m\u001b[1;33m\u001b[0m\u001b[0m\n\u001b[0;32m      9\u001b[0m \u001b[0marray\u001b[0m \u001b[1;33m=\u001b[0m \u001b[0mdata\u001b[0m\u001b[1;33m\u001b[0m\u001b[1;33m\u001b[0m\u001b[0m\n",
      "\u001b[1;31mTypeError\u001b[0m: 'str' object is not callable"
     ]
    }
   ],
   "source": [
    "#Standardize data (0 mean, 1 stdev)\n",
    "from sklearn.preprocessing import StandardScaler\n",
    "import pandas\n",
    "import numpy\n",
    "\n",
    "#n=r'C:\\Users\\solan\\Downloads\\Subjects\\Winter\\Machine Learning\\exam\\Datasets\\Datasets\\Normal_Experiments\\merged exp normal.csv'\n",
    "n = input('Enter the directory path for merged exp normal.csv file')\n",
    "data = pd.read_csv(n)\n",
    "array = data\n",
    "X = array.iloc[:,0:8]\n",
    "Y = array.iloc[:,9]\n",
    "scaler = StandardScaler().fit(X)\n",
    "rescaledX = scaler.transform(X)\n",
    "numpy.set_printoptions(precision=3)\n",
    "print(data.columns.values[0:8])\n",
    "print(rescaledX[0:5,:])"
   ]
  }
 ],
 "metadata": {
  "kernelspec": {
   "display_name": "Python 3",
   "language": "python",
   "name": "python3"
  },
  "language_info": {
   "codemirror_mode": {
    "name": "ipython",
    "version": 3
   },
   "file_extension": ".py",
   "mimetype": "text/x-python",
   "name": "python",
   "nbconvert_exporter": "python",
   "pygments_lexer": "ipython3",
   "version": "3.7.1"
  }
 },
 "nbformat": 4,
 "nbformat_minor": 2
}
